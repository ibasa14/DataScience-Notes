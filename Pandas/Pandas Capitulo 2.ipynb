{
 "cells": [
  {
   "cell_type": "markdown",
   "metadata": {},
   "source": [
    "<img src=\"pandas_logo.png\">"
   ]
  },
  {
   "cell_type": "markdown",
   "metadata": {},
   "source": [
    "## Agrupación\n",
    "Al igual que en SQL, pandas permite realizar operaciones de agrupación, las cuales simplifican mucho las cosas.\n",
    "\n",
    "Imaginemos que tenemos el siguiente dataframe y queremos sumar los valores para los diferentes tipos: \n"
   ]
  },
  {
   "cell_type": "code",
   "execution_count": 6,
   "metadata": {},
   "outputs": [
    {
     "data": {
      "text/html": [
       "<div>\n",
       "<style scoped>\n",
       "    .dataframe tbody tr th:only-of-type {\n",
       "        vertical-align: middle;\n",
       "    }\n",
       "\n",
       "    .dataframe tbody tr th {\n",
       "        vertical-align: top;\n",
       "    }\n",
       "\n",
       "    .dataframe thead th {\n",
       "        text-align: right;\n",
       "    }\n",
       "</style>\n",
       "<table border=\"1\" class=\"dataframe\">\n",
       "  <thead>\n",
       "    <tr style=\"text-align: right;\">\n",
       "      <th></th>\n",
       "      <th>tipo</th>\n",
       "      <th>valor_1</th>\n",
       "      <th>valor_2</th>\n",
       "    </tr>\n",
       "  </thead>\n",
       "  <tbody>\n",
       "    <tr>\n",
       "      <th>0</th>\n",
       "      <td>A</td>\n",
       "      <td>0</td>\n",
       "      <td>10</td>\n",
       "    </tr>\n",
       "    <tr>\n",
       "      <th>1</th>\n",
       "      <td>B</td>\n",
       "      <td>5</td>\n",
       "      <td>3</td>\n",
       "    </tr>\n",
       "    <tr>\n",
       "      <th>2</th>\n",
       "      <td>C</td>\n",
       "      <td>10</td>\n",
       "      <td>10</td>\n",
       "    </tr>\n",
       "    <tr>\n",
       "      <th>3</th>\n",
       "      <td>A</td>\n",
       "      <td>5</td>\n",
       "      <td>4</td>\n",
       "    </tr>\n",
       "    <tr>\n",
       "      <th>4</th>\n",
       "      <td>B</td>\n",
       "      <td>10</td>\n",
       "      <td>10</td>\n",
       "    </tr>\n",
       "    <tr>\n",
       "      <th>5</th>\n",
       "      <td>C</td>\n",
       "      <td>15</td>\n",
       "      <td>1</td>\n",
       "    </tr>\n",
       "    <tr>\n",
       "      <th>6</th>\n",
       "      <td>A</td>\n",
       "      <td>10</td>\n",
       "      <td>2</td>\n",
       "    </tr>\n",
       "    <tr>\n",
       "      <th>7</th>\n",
       "      <td>B</td>\n",
       "      <td>15</td>\n",
       "      <td>15</td>\n",
       "    </tr>\n",
       "    <tr>\n",
       "      <th>8</th>\n",
       "      <td>C</td>\n",
       "      <td>20</td>\n",
       "      <td>6</td>\n",
       "    </tr>\n",
       "  </tbody>\n",
       "</table>\n",
       "</div>"
      ],
      "text/plain": [
       "  tipo  valor_1  valor_2\n",
       "0    A        0       10\n",
       "1    B        5        3\n",
       "2    C       10       10\n",
       "3    A        5        4\n",
       "4    B       10       10\n",
       "5    C       15        1\n",
       "6    A       10        2\n",
       "7    B       15       15\n",
       "8    C       20        6"
      ]
     },
     "execution_count": 6,
     "metadata": {},
     "output_type": "execute_result"
    }
   ],
   "source": [
    "import pandas as pd\n",
    "import numpy as np\n",
    "\n",
    "df = pd.DataFrame({'tipo':['A','B','C','A','B','C','A','B','C'],\n",
    "                   'valor_1': [0, 5, 10, 5, 10, 15, 10, 15, 20],\n",
    "                   'valor_2': [10, 3, 10, 4, 10, 1, 2, 15, 6]})\n",
    "\n",
    "df"
   ]
  },
  {
   "cell_type": "markdown",
   "metadata": {},
   "source": [
    "Podriamos repetir la siguiente operación para cada una de los tipos:"
   ]
  },
  {
   "cell_type": "code",
   "execution_count": 12,
   "metadata": {},
   "outputs": [
    {
     "data": {
      "text/plain": [
       "valor_1    15\n",
       "valor_2    16\n",
       "dtype: int64"
      ]
     },
     "execution_count": 12,
     "metadata": {},
     "output_type": "execute_result"
    }
   ],
   "source": [
    "df.loc[df['tipo'] == 'A', ['valor_1', 'valor_2']].sum()"
   ]
  },
  {
   "cell_type": "markdown",
   "metadata": {},
   "source": [
    "O mejor, utilizar las funciones de agregación..."
   ]
  },
  {
   "cell_type": "code",
   "execution_count": 11,
   "metadata": {},
   "outputs": [
    {
     "data": {
      "text/html": [
       "<div>\n",
       "<style scoped>\n",
       "    .dataframe tbody tr th:only-of-type {\n",
       "        vertical-align: middle;\n",
       "    }\n",
       "\n",
       "    .dataframe tbody tr th {\n",
       "        vertical-align: top;\n",
       "    }\n",
       "\n",
       "    .dataframe thead th {\n",
       "        text-align: right;\n",
       "    }\n",
       "</style>\n",
       "<table border=\"1\" class=\"dataframe\">\n",
       "  <thead>\n",
       "    <tr style=\"text-align: right;\">\n",
       "      <th></th>\n",
       "      <th>valor_1</th>\n",
       "      <th>valor_2</th>\n",
       "    </tr>\n",
       "    <tr>\n",
       "      <th>tipo</th>\n",
       "      <th></th>\n",
       "      <th></th>\n",
       "    </tr>\n",
       "  </thead>\n",
       "  <tbody>\n",
       "    <tr>\n",
       "      <th>A</th>\n",
       "      <td>15</td>\n",
       "      <td>16</td>\n",
       "    </tr>\n",
       "    <tr>\n",
       "      <th>B</th>\n",
       "      <td>30</td>\n",
       "      <td>28</td>\n",
       "    </tr>\n",
       "    <tr>\n",
       "      <th>C</th>\n",
       "      <td>45</td>\n",
       "      <td>17</td>\n",
       "    </tr>\n",
       "  </tbody>\n",
       "</table>\n",
       "</div>"
      ],
      "text/plain": [
       "      valor_1  valor_2\n",
       "tipo                  \n",
       "A          15       16\n",
       "B          30       28\n",
       "C          45       17"
      ]
     },
     "execution_count": 11,
     "metadata": {},
     "output_type": "execute_result"
    }
   ],
   "source": [
    "df.groupby('tipo').sum()  # esto devuelve un dataframe"
   ]
  },
  {
   "cell_type": "markdown",
   "metadata": {},
   "source": [
    "Si quisieramos diferentes funciones sobre las dos columnas:"
   ]
  },
  {
   "cell_type": "code",
   "execution_count": 20,
   "metadata": {},
   "outputs": [
    {
     "data": {
      "text/html": [
       "<div>\n",
       "<style scoped>\n",
       "    .dataframe tbody tr th:only-of-type {\n",
       "        vertical-align: middle;\n",
       "    }\n",
       "\n",
       "    .dataframe tbody tr th {\n",
       "        vertical-align: top;\n",
       "    }\n",
       "\n",
       "    .dataframe thead tr th {\n",
       "        text-align: left;\n",
       "    }\n",
       "\n",
       "    .dataframe thead tr:last-of-type th {\n",
       "        text-align: right;\n",
       "    }\n",
       "</style>\n",
       "<table border=\"1\" class=\"dataframe\">\n",
       "  <thead>\n",
       "    <tr>\n",
       "      <th></th>\n",
       "      <th colspan=\"2\" halign=\"left\">valor_1</th>\n",
       "      <th colspan=\"2\" halign=\"left\">valor_2</th>\n",
       "    </tr>\n",
       "    <tr>\n",
       "      <th></th>\n",
       "      <th>min</th>\n",
       "      <th>max</th>\n",
       "      <th>sum</th>\n",
       "      <th>count</th>\n",
       "    </tr>\n",
       "    <tr>\n",
       "      <th>tipo</th>\n",
       "      <th></th>\n",
       "      <th></th>\n",
       "      <th></th>\n",
       "      <th></th>\n",
       "    </tr>\n",
       "  </thead>\n",
       "  <tbody>\n",
       "    <tr>\n",
       "      <th>A</th>\n",
       "      <td>0</td>\n",
       "      <td>10</td>\n",
       "      <td>16</td>\n",
       "      <td>3</td>\n",
       "    </tr>\n",
       "    <tr>\n",
       "      <th>B</th>\n",
       "      <td>5</td>\n",
       "      <td>15</td>\n",
       "      <td>28</td>\n",
       "      <td>3</td>\n",
       "    </tr>\n",
       "    <tr>\n",
       "      <th>C</th>\n",
       "      <td>10</td>\n",
       "      <td>20</td>\n",
       "      <td>17</td>\n",
       "      <td>3</td>\n",
       "    </tr>\n",
       "  </tbody>\n",
       "</table>\n",
       "</div>"
      ],
      "text/plain": [
       "     valor_1     valor_2      \n",
       "         min max     sum count\n",
       "tipo                          \n",
       "A          0  10      16     3\n",
       "B          5  15      28     3\n",
       "C         10  20      17     3"
      ]
     },
     "execution_count": 20,
     "metadata": {},
     "output_type": "execute_result"
    }
   ],
   "source": [
    "df.groupby('tipo').agg({'valor_1': ['min', 'max'], 'valor_2': ['sum','count']})\n"
   ]
  },
  {
   "cell_type": "markdown",
   "metadata": {},
   "source": [
    "## Join - Merge\n",
    "Los JOINs en SQL sirven para combinar filas de dos o más tablas basándose en un campo común entre ellas. En pandas es lo mismo.\n",
    "\n",
    "Un ejemplo sencillo te ayudará a entender en que consiste en caso de que no conozcas esta operación:"
   ]
  },
  {
   "cell_type": "code",
   "execution_count": 28,
   "metadata": {},
   "outputs": [
    {
     "name": "stdout",
     "output_type": "stream",
     "text": [
      "        nombre\n",
      "coche         \n",
      "coche_a    Bob\n",
      "coche_c   Jake\n",
      "coche_b   Lisa\n",
      "coche_a    Sue\n",
      "\n",
      "         precio\n",
      "coche          \n",
      "coche_a    1000\n",
      "coche_b    2000\n",
      "coche_c    3000\n"
     ]
    }
   ],
   "source": [
    "clientes = pd.DataFrame({'nombre': ['Bob', 'Jake', 'Lisa', 'Sue'],\n",
    "                        'coche': ['coche_a', 'coche_c', 'coche_b', 'coche_a']}).set_index('coche')\n",
    "coches = pd.DataFrame({'coche': ['coche_a', 'coche_b', 'coche_c'],\n",
    "                        'precio': [1000, 2000, 3000]}).set_index('coche')\n",
    "print(clientes)\n",
    "print()\n",
    "print(coches)"
   ]
  },
  {
   "cell_type": "markdown",
   "metadata": {},
   "source": [
    "Tenemos estas dos tablas, y queremos relacionar el cliente con el precio de su coche, como la variable coche esta presente en las dos tablas, es tan sencillo como:"
   ]
  },
  {
   "cell_type": "code",
   "execution_count": 29,
   "metadata": {},
   "outputs": [
    {
     "data": {
      "text/html": [
       "<div>\n",
       "<style scoped>\n",
       "    .dataframe tbody tr th:only-of-type {\n",
       "        vertical-align: middle;\n",
       "    }\n",
       "\n",
       "    .dataframe tbody tr th {\n",
       "        vertical-align: top;\n",
       "    }\n",
       "\n",
       "    .dataframe thead th {\n",
       "        text-align: right;\n",
       "    }\n",
       "</style>\n",
       "<table border=\"1\" class=\"dataframe\">\n",
       "  <thead>\n",
       "    <tr style=\"text-align: right;\">\n",
       "      <th></th>\n",
       "      <th>nombre</th>\n",
       "      <th>precio</th>\n",
       "    </tr>\n",
       "    <tr>\n",
       "      <th>coche</th>\n",
       "      <th></th>\n",
       "      <th></th>\n",
       "    </tr>\n",
       "  </thead>\n",
       "  <tbody>\n",
       "    <tr>\n",
       "      <th>coche_a</th>\n",
       "      <td>Bob</td>\n",
       "      <td>1000</td>\n",
       "    </tr>\n",
       "    <tr>\n",
       "      <th>coche_a</th>\n",
       "      <td>Sue</td>\n",
       "      <td>1000</td>\n",
       "    </tr>\n",
       "    <tr>\n",
       "      <th>coche_b</th>\n",
       "      <td>Lisa</td>\n",
       "      <td>2000</td>\n",
       "    </tr>\n",
       "    <tr>\n",
       "      <th>coche_c</th>\n",
       "      <td>Jake</td>\n",
       "      <td>3000</td>\n",
       "    </tr>\n",
       "  </tbody>\n",
       "</table>\n",
       "</div>"
      ],
      "text/plain": [
       "        nombre  precio\n",
       "coche                 \n",
       "coche_a    Bob    1000\n",
       "coche_a    Sue    1000\n",
       "coche_b   Lisa    2000\n",
       "coche_c   Jake    3000"
      ]
     },
     "execution_count": 29,
     "metadata": {},
     "output_type": "execute_result"
    }
   ],
   "source": [
    "clientes_coches = clientes.join(coches)\n",
    "\n",
    "clientes_coches"
   ]
  },
  {
   "cell_type": "markdown",
   "metadata": {},
   "source": [
    "Vemos que las dos tablas se han 'unido' sobre el index de ambos DataFrame. Que pasaría si quisieramos combinar DataFrames que tuvieran en común una columna \n",
    "cualquiera y no el index? \n",
    "\n",
    "En este caso habría que utilizar **merge()**. De hecho, merge es más versátil ya que permite realizar ambos tipos de operación. Por lo tanto se recomienda el uso de merge:\n",
    "\n"
   ]
  },
  {
   "cell_type": "code",
   "execution_count": 30,
   "metadata": {},
   "outputs": [
    {
     "name": "stdout",
     "output_type": "stream",
     "text": [
      "  nombre    coche\n",
      "0    Bob  coche_a\n",
      "1   Jake  coche_c\n",
      "2   Lisa  coche_b\n",
      "3    Sue  coche_a\n",
      "\n",
      "     coche  precio\n",
      "0  coche_a    1000\n",
      "1  coche_b    2000\n",
      "2  coche_c    3000\n"
     ]
    }
   ],
   "source": [
    "clientes = pd.DataFrame({'nombre': ['Bob', 'Jake', 'Lisa', 'Sue'],\n",
    "                        'coche': ['coche_a', 'coche_c', 'coche_b', 'coche_a']})\n",
    "coches = pd.DataFrame({'coche': ['coche_a', 'coche_b', 'coche_c'],\n",
    "                        'precio': [1000, 2000, 3000]})\n",
    "print(clientes)\n",
    "print()\n",
    "print(coches)"
   ]
  },
  {
   "cell_type": "code",
   "execution_count": 31,
   "metadata": {},
   "outputs": [
    {
     "data": {
      "text/html": [
       "<div>\n",
       "<style scoped>\n",
       "    .dataframe tbody tr th:only-of-type {\n",
       "        vertical-align: middle;\n",
       "    }\n",
       "\n",
       "    .dataframe tbody tr th {\n",
       "        vertical-align: top;\n",
       "    }\n",
       "\n",
       "    .dataframe thead th {\n",
       "        text-align: right;\n",
       "    }\n",
       "</style>\n",
       "<table border=\"1\" class=\"dataframe\">\n",
       "  <thead>\n",
       "    <tr style=\"text-align: right;\">\n",
       "      <th></th>\n",
       "      <th>nombre</th>\n",
       "      <th>coche</th>\n",
       "      <th>precio</th>\n",
       "    </tr>\n",
       "  </thead>\n",
       "  <tbody>\n",
       "    <tr>\n",
       "      <th>0</th>\n",
       "      <td>Bob</td>\n",
       "      <td>coche_a</td>\n",
       "      <td>1000</td>\n",
       "    </tr>\n",
       "    <tr>\n",
       "      <th>1</th>\n",
       "      <td>Sue</td>\n",
       "      <td>coche_a</td>\n",
       "      <td>1000</td>\n",
       "    </tr>\n",
       "    <tr>\n",
       "      <th>2</th>\n",
       "      <td>Jake</td>\n",
       "      <td>coche_c</td>\n",
       "      <td>3000</td>\n",
       "    </tr>\n",
       "    <tr>\n",
       "      <th>3</th>\n",
       "      <td>Lisa</td>\n",
       "      <td>coche_b</td>\n",
       "      <td>2000</td>\n",
       "    </tr>\n",
       "  </tbody>\n",
       "</table>\n",
       "</div>"
      ],
      "text/plain": [
       "  nombre    coche  precio\n",
       "0    Bob  coche_a    1000\n",
       "1    Sue  coche_a    1000\n",
       "2   Jake  coche_c    3000\n",
       "3   Lisa  coche_b    2000"
      ]
     },
     "execution_count": 31,
     "metadata": {},
     "output_type": "execute_result"
    }
   ],
   "source": [
    "# merge se encarga de buscar la columna que se tiene en común, aunque se puede especificar\n",
    "# utilizando el parametro 'on'.\n",
    "clientes_coches = clientes.merge(coches)\n",
    "\n",
    "clientes_coches"
   ]
  },
  {
   "cell_type": "markdown",
   "metadata": {},
   "source": [
    "Existe la posibilidad de que queramos combinar tablas para una columna que aunque hace referencia a la mismca cosa en ambas tablas, se llaman de diferente manera.\n",
    "\n",
    "En este caso, no hace falta que renombremos una de las dos. Basta con utilizar los parametros: **left_on** y **right_on**:"
   ]
  },
  {
   "cell_type": "code",
   "execution_count": 32,
   "metadata": {},
   "outputs": [
    {
     "name": "stdout",
     "output_type": "stream",
     "text": [
      "  nombre    coche\n",
      "0    Bob  coche_a\n",
      "1   Jake  coche_c\n",
      "2   Lisa  coche_b\n",
      "3    Sue  coche_a\n",
      "\n",
      "     carro  precio\n",
      "0  coche_a    1000\n",
      "1  coche_b    2000\n",
      "2  coche_c    3000\n"
     ]
    }
   ],
   "source": [
    "clientes = pd.DataFrame({'nombre': ['Bob', 'Jake', 'Lisa', 'Sue'],\n",
    "                        'coche': ['coche_a', 'coche_c', 'coche_b', 'coche_a']})\n",
    "coches = pd.DataFrame({'carro': ['coche_a', 'coche_b', 'coche_c'],\n",
    "                        'precio': [1000, 2000, 3000]})\n",
    "print(clientes)\n",
    "print()\n",
    "print(coches)"
   ]
  },
  {
   "cell_type": "code",
   "execution_count": 35,
   "metadata": {},
   "outputs": [
    {
     "data": {
      "text/html": [
       "<div>\n",
       "<style scoped>\n",
       "    .dataframe tbody tr th:only-of-type {\n",
       "        vertical-align: middle;\n",
       "    }\n",
       "\n",
       "    .dataframe tbody tr th {\n",
       "        vertical-align: top;\n",
       "    }\n",
       "\n",
       "    .dataframe thead th {\n",
       "        text-align: right;\n",
       "    }\n",
       "</style>\n",
       "<table border=\"1\" class=\"dataframe\">\n",
       "  <thead>\n",
       "    <tr style=\"text-align: right;\">\n",
       "      <th></th>\n",
       "      <th>nombre</th>\n",
       "      <th>coche</th>\n",
       "      <th>carro</th>\n",
       "      <th>precio</th>\n",
       "    </tr>\n",
       "  </thead>\n",
       "  <tbody>\n",
       "    <tr>\n",
       "      <th>0</th>\n",
       "      <td>Bob</td>\n",
       "      <td>coche_a</td>\n",
       "      <td>coche_a</td>\n",
       "      <td>1000</td>\n",
       "    </tr>\n",
       "    <tr>\n",
       "      <th>1</th>\n",
       "      <td>Sue</td>\n",
       "      <td>coche_a</td>\n",
       "      <td>coche_a</td>\n",
       "      <td>1000</td>\n",
       "    </tr>\n",
       "    <tr>\n",
       "      <th>2</th>\n",
       "      <td>Jake</td>\n",
       "      <td>coche_c</td>\n",
       "      <td>coche_c</td>\n",
       "      <td>3000</td>\n",
       "    </tr>\n",
       "    <tr>\n",
       "      <th>3</th>\n",
       "      <td>Lisa</td>\n",
       "      <td>coche_b</td>\n",
       "      <td>coche_b</td>\n",
       "      <td>2000</td>\n",
       "    </tr>\n",
       "  </tbody>\n",
       "</table>\n",
       "</div>"
      ],
      "text/plain": [
       "  nombre    coche    carro  precio\n",
       "0    Bob  coche_a  coche_a    1000\n",
       "1    Sue  coche_a  coche_a    1000\n",
       "2   Jake  coche_c  coche_c    3000\n",
       "3   Lisa  coche_b  coche_b    2000"
      ]
     },
     "execution_count": 35,
     "metadata": {},
     "output_type": "execute_result"
    }
   ],
   "source": [
    "# Se creará una columna redundante que podremos borrar\n",
    "clientes_coches = clientes.merge(coches, left_on = 'coche', right_on = 'carro')\n",
    "\n",
    "clientes_coches"
   ]
  },
  {
   "cell_type": "code",
   "execution_count": 36,
   "metadata": {},
   "outputs": [
    {
     "data": {
      "text/html": [
       "<div>\n",
       "<style scoped>\n",
       "    .dataframe tbody tr th:only-of-type {\n",
       "        vertical-align: middle;\n",
       "    }\n",
       "\n",
       "    .dataframe tbody tr th {\n",
       "        vertical-align: top;\n",
       "    }\n",
       "\n",
       "    .dataframe thead th {\n",
       "        text-align: right;\n",
       "    }\n",
       "</style>\n",
       "<table border=\"1\" class=\"dataframe\">\n",
       "  <thead>\n",
       "    <tr style=\"text-align: right;\">\n",
       "      <th></th>\n",
       "      <th>nombre</th>\n",
       "      <th>coche</th>\n",
       "      <th>precio</th>\n",
       "    </tr>\n",
       "  </thead>\n",
       "  <tbody>\n",
       "    <tr>\n",
       "      <th>0</th>\n",
       "      <td>Bob</td>\n",
       "      <td>coche_a</td>\n",
       "      <td>1000</td>\n",
       "    </tr>\n",
       "    <tr>\n",
       "      <th>1</th>\n",
       "      <td>Sue</td>\n",
       "      <td>coche_a</td>\n",
       "      <td>1000</td>\n",
       "    </tr>\n",
       "    <tr>\n",
       "      <th>2</th>\n",
       "      <td>Jake</td>\n",
       "      <td>coche_c</td>\n",
       "      <td>3000</td>\n",
       "    </tr>\n",
       "    <tr>\n",
       "      <th>3</th>\n",
       "      <td>Lisa</td>\n",
       "      <td>coche_b</td>\n",
       "      <td>2000</td>\n",
       "    </tr>\n",
       "  </tbody>\n",
       "</table>\n",
       "</div>"
      ],
      "text/plain": [
       "  nombre    coche  precio\n",
       "0    Bob  coche_a    1000\n",
       "1    Sue  coche_a    1000\n",
       "2   Jake  coche_c    3000\n",
       "3   Lisa  coche_b    2000"
      ]
     },
     "execution_count": 36,
     "metadata": {},
     "output_type": "execute_result"
    }
   ],
   "source": [
    "#borramos una de las dos columnas\n",
    "clientes_coches.drop(columns = ['carro'])"
   ]
  },
  {
   "cell_type": "markdown",
   "metadata": {},
   "source": [
    "### Tipos de join y merge\n",
    "\n",
    "#### Inner join\n",
    "\n",
    "El tipo más común de unión, combina dos DataFrames y devuelve uno que contiene solo aquellas filas que tienen valores **coincidentes** entre los dos DataFrames originales.\n",
    "\n",
    "<img src = 'inner_join.png' style='height:30vh'>"
   ]
  },
  {
   "cell_type": "code",
   "execution_count": 38,
   "metadata": {},
   "outputs": [
    {
     "name": "stdout",
     "output_type": "stream",
     "text": [
      "  nombre   comida\n",
      "0  Peter    carne\n",
      "1   Paul   judías\n",
      "2   Mary  pescado\n",
      "\n",
      "   nombre   bebida\n",
      "0    Mary     vino\n",
      "1  Joseph  cerveza\n"
     ]
    }
   ],
   "source": [
    "df1 = pd.DataFrame({'nombre': ['Peter', 'Paul', 'Mary'],\n",
    "                    'comida': ['carne', 'judías', 'pescado']})\n",
    "\n",
    "df2 = pd.DataFrame({'nombre': ['Mary', 'Joseph'],\n",
    "                    'bebida': ['vino', 'cerveza']})\n",
    "\n",
    "print(df1)\n",
    "print()\n",
    "print(df2)\n",
    "                   \n"
   ]
  },
  {
   "cell_type": "code",
   "execution_count": 39,
   "metadata": {},
   "outputs": [
    {
     "data": {
      "text/html": [
       "<div>\n",
       "<style scoped>\n",
       "    .dataframe tbody tr th:only-of-type {\n",
       "        vertical-align: middle;\n",
       "    }\n",
       "\n",
       "    .dataframe tbody tr th {\n",
       "        vertical-align: top;\n",
       "    }\n",
       "\n",
       "    .dataframe thead th {\n",
       "        text-align: right;\n",
       "    }\n",
       "</style>\n",
       "<table border=\"1\" class=\"dataframe\">\n",
       "  <thead>\n",
       "    <tr style=\"text-align: right;\">\n",
       "      <th></th>\n",
       "      <th>nombre</th>\n",
       "      <th>comida</th>\n",
       "      <th>bebida</th>\n",
       "    </tr>\n",
       "  </thead>\n",
       "  <tbody>\n",
       "    <tr>\n",
       "      <th>0</th>\n",
       "      <td>Mary</td>\n",
       "      <td>pescado</td>\n",
       "      <td>vino</td>\n",
       "    </tr>\n",
       "  </tbody>\n",
       "</table>\n",
       "</div>"
      ],
      "text/plain": [
       "  nombre   comida bebida\n",
       "0   Mary  pescado   vino"
      ]
     },
     "execution_count": 39,
     "metadata": {},
     "output_type": "execute_result"
    }
   ],
   "source": [
    "# solo contiene la fila con nombre = Mary que aparece en ambas tablas\n",
    "\n",
    "df1.merge(df2, how = 'inner')"
   ]
  },
  {
   "cell_type": "markdown",
   "metadata": {},
   "source": [
    "#### Left / Right join\n",
    "\n",
    "Si quisieramos conservar por ejemplo toda la información de la tabla izquierda entonces usaríamos el metodo how = 'left', aquellos valores que no esten contenidos en la tabla derecha entonces apareceran como nulos.\n",
    "\n",
    "En caso de querer conservar toda la información de la tabla derecha sería lo mismo pero al reves: how = 'right'\n",
    "\n",
    "<img src = 'left_join.png' style='height: 30vh'>"
   ]
  },
  {
   "cell_type": "code",
   "execution_count": 40,
   "metadata": {},
   "outputs": [
    {
     "data": {
      "text/html": [
       "<div>\n",
       "<style scoped>\n",
       "    .dataframe tbody tr th:only-of-type {\n",
       "        vertical-align: middle;\n",
       "    }\n",
       "\n",
       "    .dataframe tbody tr th {\n",
       "        vertical-align: top;\n",
       "    }\n",
       "\n",
       "    .dataframe thead th {\n",
       "        text-align: right;\n",
       "    }\n",
       "</style>\n",
       "<table border=\"1\" class=\"dataframe\">\n",
       "  <thead>\n",
       "    <tr style=\"text-align: right;\">\n",
       "      <th></th>\n",
       "      <th>nombre</th>\n",
       "      <th>comida</th>\n",
       "      <th>bebida</th>\n",
       "    </tr>\n",
       "  </thead>\n",
       "  <tbody>\n",
       "    <tr>\n",
       "      <th>0</th>\n",
       "      <td>Peter</td>\n",
       "      <td>carne</td>\n",
       "      <td>NaN</td>\n",
       "    </tr>\n",
       "    <tr>\n",
       "      <th>1</th>\n",
       "      <td>Paul</td>\n",
       "      <td>judías</td>\n",
       "      <td>NaN</td>\n",
       "    </tr>\n",
       "    <tr>\n",
       "      <th>2</th>\n",
       "      <td>Mary</td>\n",
       "      <td>pescado</td>\n",
       "      <td>vino</td>\n",
       "    </tr>\n",
       "  </tbody>\n",
       "</table>\n",
       "</div>"
      ],
      "text/plain": [
       "  nombre   comida bebida\n",
       "0  Peter    carne    NaN\n",
       "1   Paul   judías    NaN\n",
       "2   Mary  pescado   vino"
      ]
     },
     "execution_count": 40,
     "metadata": {},
     "output_type": "execute_result"
    }
   ],
   "source": [
    "# contiene todas las filas de la tabla de la izquierda (df1)\n",
    "\n",
    "df1.merge(df2, how = 'left')"
   ]
  },
  {
   "cell_type": "markdown",
   "metadata": {},
   "source": [
    "#### Outter join\n",
    "\n",
    "El último caso: en caso de querer conservar todos los datos.\n",
    "    \n",
    "<img src = 'outer_join.png' style='height:30vh'>"
   ]
  }
 ],
 "metadata": {
  "kernelspec": {
   "display_name": "tensorflow",
   "language": "python",
   "name": "tensorflow"
  },
  "language_info": {
   "codemirror_mode": {
    "name": "ipython",
    "version": 3
   },
   "file_extension": ".py",
   "mimetype": "text/x-python",
   "name": "python",
   "nbconvert_exporter": "python",
   "pygments_lexer": "ipython3",
   "version": "3.6.9"
  }
 },
 "nbformat": 4,
 "nbformat_minor": 2
}
