{
 "cells": [
  {
   "cell_type": "markdown",
   "metadata": {},
   "source": [
    "<img src=\"scikit_learn_logo.png\">"
   ]
  },
  {
   "cell_type": "markdown",
   "metadata": {},
   "source": [
    "## Árboles de decisión II\n",
    "\n",
    "Como comentábamos al final del capítulo anterior, uno de los conceptos más importantes en estos algorítmos ( y en general en los modelos de predicción ) es el **sobreajuste**.\n",
    "\n",
    "Un modelo se sobreajusta cuando se acopla demasiado a las muestras con las cuales ha sido entrenado. De esta forma, el modelo **pierde su capacidad de generalización**. Es decir, este modelo será capaz de ajustar bien las muestras con las que ha sido entrenado, pero cuando tenga que clasificar muestras nuevas,que desconoce, no tendrá buen rendimiento.\n",
    "\n",
    "Con un modelo basado en árbol de decisión es bastante probable que ocurra esto, y por lo tanto se debe estudiar esta posibilidad y en tal caso tomar acción: **regularizarlo** o bien conseguir más muestras de entrenamiento.\n",
    "\n",
    "¿Qué formas tenemos para regularizar un árbol?\n",
    "\n",
    "Varias. Podemos por ejemplo limitar el número de nodos que tenga el árbol, su profundidad, de tal forma que no exitan tantas ramas con grupos tan específicos. Otra forma es establacer un umbral de muestras minímas por\n",
    "nodo a partir del cual se podrá hacer una nueva división. Lo mismo con la entropía/gini, etc.\n",
    "\n",
    "Estas regularizaciones que se acaban de comentar se establecen con los parámetro comentados en el capítulo anterior. Lo suyo es ir probar varias combinaciones y quedarnos con la que mejor resultado nos de. Scikitlearn nos ofrece una función para crear una **malla** y probar combinaciones de parámetros: **GridSearchCV**.\n",
    "\n",
    "En este capítulo vamos a explicar los tipos de errores asociados a modelos, como elegir los mejores parámetros para un árbol y visualizar las curvas de aprendizaje."
   ]
  },
  {
   "cell_type": "code",
   "execution_count": 121,
   "metadata": {
    "scrolled": true
   },
   "outputs": [],
   "source": [
    "import pandas as pd\n",
    "import numpy as np\n",
    "import os\n",
    "from sklearn.tree import DecisionTreeClassifier\n",
    "from sklearn.metrics import accuracy_score, plot_confusion_matrix                             \n",
    "from sklearn.model_selection import train_test_split, learning_curve,\\\n",
    "                                    GridSearchCV\n",
    "import matplotlib.pyplot as plt\n",
    "import seaborn as sns\n",
    "sns.set_style('darkgrid')\n",
    "\n",
    "# la bbdd que usaremos tiene que ver con vinos\n",
    "vinos_path = os.path.join(os.getcwd(), '..', 'datasets', 'Vino', 'wine.csv')\n",
    "vinos_df = pd.read_csv(vinos_path)"
   ]
  },
  {
   "cell_type": "code",
   "execution_count": 122,
   "metadata": {},
   "outputs": [
    {
     "data": {
      "text/html": [
       "<div>\n",
       "<style scoped>\n",
       "    .dataframe tbody tr th:only-of-type {\n",
       "        vertical-align: middle;\n",
       "    }\n",
       "\n",
       "    .dataframe tbody tr th {\n",
       "        vertical-align: top;\n",
       "    }\n",
       "\n",
       "    .dataframe thead th {\n",
       "        text-align: right;\n",
       "    }\n",
       "</style>\n",
       "<table border=\"1\" class=\"dataframe\">\n",
       "  <thead>\n",
       "    <tr style=\"text-align: right;\">\n",
       "      <th></th>\n",
       "      <th>fixed acidity</th>\n",
       "      <th>volatile acidity</th>\n",
       "      <th>citric acid</th>\n",
       "      <th>residual sugar</th>\n",
       "      <th>chlorides</th>\n",
       "      <th>free sulfur dioxide</th>\n",
       "      <th>total sulfur dioxide</th>\n",
       "      <th>density</th>\n",
       "      <th>pH</th>\n",
       "      <th>sulphates</th>\n",
       "      <th>alcohol</th>\n",
       "      <th>quality</th>\n",
       "    </tr>\n",
       "  </thead>\n",
       "  <tbody>\n",
       "    <tr>\n",
       "      <th>0</th>\n",
       "      <td>7.4</td>\n",
       "      <td>0.70</td>\n",
       "      <td>0.00</td>\n",
       "      <td>1.9</td>\n",
       "      <td>0.076</td>\n",
       "      <td>11.0</td>\n",
       "      <td>34.0</td>\n",
       "      <td>0.9978</td>\n",
       "      <td>3.51</td>\n",
       "      <td>0.56</td>\n",
       "      <td>9.4</td>\n",
       "      <td>5</td>\n",
       "    </tr>\n",
       "    <tr>\n",
       "      <th>1</th>\n",
       "      <td>7.8</td>\n",
       "      <td>0.88</td>\n",
       "      <td>0.00</td>\n",
       "      <td>2.6</td>\n",
       "      <td>0.098</td>\n",
       "      <td>25.0</td>\n",
       "      <td>67.0</td>\n",
       "      <td>0.9968</td>\n",
       "      <td>3.20</td>\n",
       "      <td>0.68</td>\n",
       "      <td>9.8</td>\n",
       "      <td>5</td>\n",
       "    </tr>\n",
       "    <tr>\n",
       "      <th>2</th>\n",
       "      <td>7.8</td>\n",
       "      <td>0.76</td>\n",
       "      <td>0.04</td>\n",
       "      <td>2.3</td>\n",
       "      <td>0.092</td>\n",
       "      <td>15.0</td>\n",
       "      <td>54.0</td>\n",
       "      <td>0.9970</td>\n",
       "      <td>3.26</td>\n",
       "      <td>0.65</td>\n",
       "      <td>9.8</td>\n",
       "      <td>5</td>\n",
       "    </tr>\n",
       "  </tbody>\n",
       "</table>\n",
       "</div>"
      ],
      "text/plain": [
       "   fixed acidity  volatile acidity  citric acid  residual sugar  chlorides  \\\n",
       "0            7.4              0.70         0.00             1.9      0.076   \n",
       "1            7.8              0.88         0.00             2.6      0.098   \n",
       "2            7.8              0.76         0.04             2.3      0.092   \n",
       "\n",
       "   free sulfur dioxide  total sulfur dioxide  density    pH  sulphates  \\\n",
       "0                 11.0                  34.0   0.9978  3.51       0.56   \n",
       "1                 25.0                  67.0   0.9968  3.20       0.68   \n",
       "2                 15.0                  54.0   0.9970  3.26       0.65   \n",
       "\n",
       "   alcohol  quality  \n",
       "0      9.4        5  \n",
       "1      9.8        5  \n",
       "2      9.8        5  "
      ]
     },
     "execution_count": 122,
     "metadata": {},
     "output_type": "execute_result"
    }
   ],
   "source": [
    "# echamos un vistazo a lo datos\n",
    "vinos_df.head(3)"
   ]
  },
  {
   "cell_type": "code",
   "execution_count": 123,
   "metadata": {},
   "outputs": [
    {
     "data": {
      "text/html": [
       "<div>\n",
       "<style scoped>\n",
       "    .dataframe tbody tr th:only-of-type {\n",
       "        vertical-align: middle;\n",
       "    }\n",
       "\n",
       "    .dataframe tbody tr th {\n",
       "        vertical-align: top;\n",
       "    }\n",
       "\n",
       "    .dataframe thead th {\n",
       "        text-align: right;\n",
       "    }\n",
       "</style>\n",
       "<table border=\"1\" class=\"dataframe\">\n",
       "  <thead>\n",
       "    <tr style=\"text-align: right;\">\n",
       "      <th></th>\n",
       "      <th>fixed acidity</th>\n",
       "      <th>volatile acidity</th>\n",
       "      <th>citric acid</th>\n",
       "      <th>residual sugar</th>\n",
       "      <th>chlorides</th>\n",
       "      <th>free sulfur dioxide</th>\n",
       "      <th>total sulfur dioxide</th>\n",
       "      <th>density</th>\n",
       "      <th>pH</th>\n",
       "      <th>sulphates</th>\n",
       "      <th>alcohol</th>\n",
       "      <th>quality</th>\n",
       "    </tr>\n",
       "  </thead>\n",
       "  <tbody>\n",
       "    <tr>\n",
       "      <th>count</th>\n",
       "      <td>1599.000000</td>\n",
       "      <td>1599.000000</td>\n",
       "      <td>1599.000000</td>\n",
       "      <td>1599.000000</td>\n",
       "      <td>1599.000000</td>\n",
       "      <td>1599.000000</td>\n",
       "      <td>1599.000000</td>\n",
       "      <td>1599.000000</td>\n",
       "      <td>1599.000000</td>\n",
       "      <td>1599.000000</td>\n",
       "      <td>1599.000000</td>\n",
       "      <td>1599.000000</td>\n",
       "    </tr>\n",
       "    <tr>\n",
       "      <th>mean</th>\n",
       "      <td>8.319637</td>\n",
       "      <td>0.527821</td>\n",
       "      <td>0.270976</td>\n",
       "      <td>2.538806</td>\n",
       "      <td>0.087467</td>\n",
       "      <td>15.874922</td>\n",
       "      <td>46.467792</td>\n",
       "      <td>0.996747</td>\n",
       "      <td>3.311113</td>\n",
       "      <td>0.658149</td>\n",
       "      <td>10.422983</td>\n",
       "      <td>5.636023</td>\n",
       "    </tr>\n",
       "    <tr>\n",
       "      <th>std</th>\n",
       "      <td>1.741096</td>\n",
       "      <td>0.179060</td>\n",
       "      <td>0.194801</td>\n",
       "      <td>1.409928</td>\n",
       "      <td>0.047065</td>\n",
       "      <td>10.460157</td>\n",
       "      <td>32.895324</td>\n",
       "      <td>0.001887</td>\n",
       "      <td>0.154386</td>\n",
       "      <td>0.169507</td>\n",
       "      <td>1.065668</td>\n",
       "      <td>0.807569</td>\n",
       "    </tr>\n",
       "    <tr>\n",
       "      <th>min</th>\n",
       "      <td>4.600000</td>\n",
       "      <td>0.120000</td>\n",
       "      <td>0.000000</td>\n",
       "      <td>0.900000</td>\n",
       "      <td>0.012000</td>\n",
       "      <td>1.000000</td>\n",
       "      <td>6.000000</td>\n",
       "      <td>0.990070</td>\n",
       "      <td>2.740000</td>\n",
       "      <td>0.330000</td>\n",
       "      <td>8.400000</td>\n",
       "      <td>3.000000</td>\n",
       "    </tr>\n",
       "    <tr>\n",
       "      <th>25%</th>\n",
       "      <td>7.100000</td>\n",
       "      <td>0.390000</td>\n",
       "      <td>0.090000</td>\n",
       "      <td>1.900000</td>\n",
       "      <td>0.070000</td>\n",
       "      <td>7.000000</td>\n",
       "      <td>22.000000</td>\n",
       "      <td>0.995600</td>\n",
       "      <td>3.210000</td>\n",
       "      <td>0.550000</td>\n",
       "      <td>9.500000</td>\n",
       "      <td>5.000000</td>\n",
       "    </tr>\n",
       "    <tr>\n",
       "      <th>50%</th>\n",
       "      <td>7.900000</td>\n",
       "      <td>0.520000</td>\n",
       "      <td>0.260000</td>\n",
       "      <td>2.200000</td>\n",
       "      <td>0.079000</td>\n",
       "      <td>14.000000</td>\n",
       "      <td>38.000000</td>\n",
       "      <td>0.996750</td>\n",
       "      <td>3.310000</td>\n",
       "      <td>0.620000</td>\n",
       "      <td>10.200000</td>\n",
       "      <td>6.000000</td>\n",
       "    </tr>\n",
       "    <tr>\n",
       "      <th>75%</th>\n",
       "      <td>9.200000</td>\n",
       "      <td>0.640000</td>\n",
       "      <td>0.420000</td>\n",
       "      <td>2.600000</td>\n",
       "      <td>0.090000</td>\n",
       "      <td>21.000000</td>\n",
       "      <td>62.000000</td>\n",
       "      <td>0.997835</td>\n",
       "      <td>3.400000</td>\n",
       "      <td>0.730000</td>\n",
       "      <td>11.100000</td>\n",
       "      <td>6.000000</td>\n",
       "    </tr>\n",
       "    <tr>\n",
       "      <th>max</th>\n",
       "      <td>15.900000</td>\n",
       "      <td>1.580000</td>\n",
       "      <td>1.000000</td>\n",
       "      <td>15.500000</td>\n",
       "      <td>0.611000</td>\n",
       "      <td>72.000000</td>\n",
       "      <td>289.000000</td>\n",
       "      <td>1.003690</td>\n",
       "      <td>4.010000</td>\n",
       "      <td>2.000000</td>\n",
       "      <td>14.900000</td>\n",
       "      <td>8.000000</td>\n",
       "    </tr>\n",
       "  </tbody>\n",
       "</table>\n",
       "</div>"
      ],
      "text/plain": [
       "       fixed acidity  volatile acidity  citric acid  residual sugar  \\\n",
       "count    1599.000000       1599.000000  1599.000000     1599.000000   \n",
       "mean        8.319637          0.527821     0.270976        2.538806   \n",
       "std         1.741096          0.179060     0.194801        1.409928   \n",
       "min         4.600000          0.120000     0.000000        0.900000   \n",
       "25%         7.100000          0.390000     0.090000        1.900000   \n",
       "50%         7.900000          0.520000     0.260000        2.200000   \n",
       "75%         9.200000          0.640000     0.420000        2.600000   \n",
       "max        15.900000          1.580000     1.000000       15.500000   \n",
       "\n",
       "         chlorides  free sulfur dioxide  total sulfur dioxide      density  \\\n",
       "count  1599.000000          1599.000000           1599.000000  1599.000000   \n",
       "mean      0.087467            15.874922             46.467792     0.996747   \n",
       "std       0.047065            10.460157             32.895324     0.001887   \n",
       "min       0.012000             1.000000              6.000000     0.990070   \n",
       "25%       0.070000             7.000000             22.000000     0.995600   \n",
       "50%       0.079000            14.000000             38.000000     0.996750   \n",
       "75%       0.090000            21.000000             62.000000     0.997835   \n",
       "max       0.611000            72.000000            289.000000     1.003690   \n",
       "\n",
       "                pH    sulphates      alcohol      quality  \n",
       "count  1599.000000  1599.000000  1599.000000  1599.000000  \n",
       "mean      3.311113     0.658149    10.422983     5.636023  \n",
       "std       0.154386     0.169507     1.065668     0.807569  \n",
       "min       2.740000     0.330000     8.400000     3.000000  \n",
       "25%       3.210000     0.550000     9.500000     5.000000  \n",
       "50%       3.310000     0.620000    10.200000     6.000000  \n",
       "75%       3.400000     0.730000    11.100000     6.000000  \n",
       "max       4.010000     2.000000    14.900000     8.000000  "
      ]
     },
     "execution_count": 123,
     "metadata": {},
     "output_type": "execute_result"
    }
   ],
   "source": [
    "vinos_df.describe()"
   ]
  },
  {
   "cell_type": "markdown",
   "metadata": {},
   "source": [
    "La variable objetivo es **quality**. Vamos a categorizarla, para tener un problema de clasificación. Generaremos tre grupos: \n",
    "\n",
    "- malo: intervalo **3 - 4**\n",
    "- normal: intervalo **5 - 6**\n",
    "- bueno: intervalo **7 - 8**"
   ]
  },
  {
   "cell_type": "code",
   "execution_count": 124,
   "metadata": {},
   "outputs": [],
   "source": [
    "# funcion para categorizar que usaremos con apply\n",
    "def define_calidad(row):\n",
    "    \"\"\"\n",
    "    Categoriza la variable quality.\n",
    "    \n",
    "    @param row: una fila del df\n",
    "    @return: devuelve la agrupación correspondiente\n",
    "    \"\"\"\n",
    "    quality = row['quality']\n",
    "    if quality <= 5:\n",
    "        return 'malo'\n",
    "    elif quality >=7:\n",
    "        return 'bueno'\n",
    "    else:\n",
    "        return 'normal'"
   ]
  },
  {
   "cell_type": "code",
   "execution_count": 125,
   "metadata": {},
   "outputs": [],
   "source": [
    "# convertimos la variable con los valores definidos\n",
    "vinos_df['quality'] = vinos_df.apply(define_calidad, axis = 1)"
   ]
  },
  {
   "cell_type": "code",
   "execution_count": 126,
   "metadata": {},
   "outputs": [
    {
     "data": {
      "text/plain": [
       "malo      744\n",
       "normal    638\n",
       "bueno     217\n",
       "Name: quality, dtype: int64"
      ]
     },
     "execution_count": 126,
     "metadata": {},
     "output_type": "execute_result"
    }
   ],
   "source": [
    "# veamos cuantos valores tenemos de cada tipo\n",
    "vinos_df['quality'].value_counts()"
   ]
  },
  {
   "cell_type": "markdown",
   "metadata": {},
   "source": [
    "Separemos nuestro set de testeo y entrenamiento, usaremos todas la variables de la base de datos para entrenar el modelo:"
   ]
  },
  {
   "cell_type": "code",
   "execution_count": 127,
   "metadata": {},
   "outputs": [],
   "source": [
    "X = vinos_df.drop(columns = ['quality'])\n",
    "y = vinos_df['quality']\n",
    "\n",
    "X_train, X_test, y_train, y_test = train_test_split(X, y, test_size = 0.3,\n",
    "                                                   random_state = 42)"
   ]
  },
  {
   "cell_type": "markdown",
   "metadata": {},
   "source": [
    "Ahora vamos a graficar las curvas de la precisión del modelo en función del tamaño de la muestra. Usaremos **learning curve**.\n",
    "\n",
    "Esta función calcula la métrica que deseamos sobre el set de entrenamiento y validación para diferentes tamaños de muestras.\n",
    "\n",
    "El set de validación es un subconjunto del set de entranamiento que se utiliza como para hacer pruebas durante la etapa de entrenamiento sin usar el set de testeo original, que solo debemos utilizar al final del ejercicio.\n",
    "\n",
    "En función de la forma de las curvas podremos ver si nuestro modelo **sobreajusta** o por el contrario **sobresimplifica**."
   ]
  },
  {
   "cell_type": "code",
   "execution_count": 128,
   "metadata": {},
   "outputs": [],
   "source": [
    "# Inicializamos el árbol de decisión con parámetros por defecto\n",
    "arbol_default = DecisionTreeClassifier() \n"
   ]
  },
  {
   "cell_type": "code",
   "execution_count": 129,
   "metadata": {},
   "outputs": [],
   "source": [
    "# aplicamos la funcion learning_curve\n",
    "# primer parametro un tipo de algoritmo: nuestro arbol\n",
    "# segundo y tercer parametros: el set de entranamiento\n",
    "# cv: 10 divisiones para la validación cruzada\n",
    "# scoring: tipo de metrica que queremos sacar\n",
    "# train_sizes: vector con los tamaños de muestras incrementales\n",
    "tamaños, training_resultados, testing_resultados = learning_curve(arbol_default,\\\n",
    "                                                        X_train,\\\n",
    "                                                        y_train,\\\n",
    "                                                        cv=10,\\\n",
    "                                                        scoring='accuracy',\\\n",
    "                                                        train_sizes=np.linspace(0.01, 1.0, 50)) \n"
   ]
  },
  {
   "cell_type": "markdown",
   "metadata": {},
   "source": [
    "¿ Qué es la **validación cruzada** ? \n",
    "\n",
    "Los datos de muestra (en este caso los de entranamiento) se dividen en K subconjuntos, (cv = 10). **Uno de los subconjuntos** se utiliza como datos de prueba y el **resto (K-1)** como datos de entrenamiento.\n",
    "Este proceso de validación cruzada se repite K iteraciones (de nuevo, 10 para nuestro ejemplo)"
   ]
  },
  {
   "cell_type": "code",
   "execution_count": 130,
   "metadata": {},
   "outputs": [
    {
     "data": {
      "text/plain": [
       "(50, 10)"
      ]
     },
     "execution_count": 130,
     "metadata": {},
     "output_type": "execute_result"
    }
   ],
   "source": [
    "# training_scores y testing_scores tienen 10 valores para cada iteracion\n",
    "# de la curva de aprendizaje\n",
    "training_scores.shape"
   ]
  },
  {
   "cell_type": "code",
   "execution_count": 133,
   "metadata": {},
   "outputs": [
    {
     "data": {
      "image/png": "[encoded data removed]",
      "text/plain": [
       "<Figure size 576x432 with 1 Axes>"
      ]
     },
     "metadata": {},
     "output_type": "display_data"
    }
   ],
   "source": [
    "# sacamos la media para cada iteracion y graficamos\n",
    "media_training = np.mean(training_resultados, axis=1) \n",
    "media_testing = np.mean(testing_resultados, axis=1) \n",
    "  \n",
    "plt.figure(figsize = (8,6))    \n",
    "sns.lineplot(sizes, media_training, color=\"b\",  label=\"Training\") \n",
    "sns.lineplot(sizes, media_testing, color=\"g\", label=\"Validación cruzada\");"
   ]
  },
  {
   "cell_type": "markdown",
   "metadata": {},
   "source": [
    "Lo que vemos en la gráfica es que para el set de entrenamiento, el modelo clasifica perfectamente, mientras que para la validación cruzada (los datos \"nuevos\"), el rendimiento va mejorando a medida que aumenta el tamaño de la muestra lentamente, y bastante por debajo de la curva anterior. Esto en resumen nos dice que el modelo esta sobreajustado. "
   ]
  },
  {
   "cell_type": "markdown",
   "metadata": {},
   "source": [
    "Vamos a regularizar el árbol de una manera exagerada para hacer que el modelo este sobresimplificado y veamos que forma tendrían las curvas en estos casos:"
   ]
  },
  {
   "cell_type": "code",
   "execution_count": 134,
   "metadata": {},
   "outputs": [
    {
     "data": {
      "image/png": "[encoded data removed]",
      "text/plain": [
       "<Figure size 576x432 with 1 Axes>"
      ]
     },
     "metadata": {},
     "output_type": "display_data"
    }
   ],
   "source": [
    "# Reducimos a una profundidad máxima de 3, lo que da lugar a un árbol\n",
    "# realmente pequeño \n",
    "arbol_podado = DecisionTreeClassifier(max_depth = 3) \n",
    "\n",
    "tamaños, training_resultados, testing_resultados = learning_curve(arbol_podado,\\\n",
    "                                                        X_train,\\\n",
    "                                                        y_train,\\\n",
    "                                                        cv=10,\\\n",
    "                                                        scoring='accuracy',\\\n",
    "                                                        train_sizes=np.linspace(0.01, 1.0, 50)) \n",
    "\n",
    "media_training = np.mean(training_resultados, axis=1) \n",
    "media_testing = np.mean(testing_resultados, axis=1) \n",
    "  \n",
    "plt.figure(figsize = (8,6))    \n",
    "sns.lineplot(sizes, media_training, color=\"b\",  label=\"Training\") \n",
    "sns.lineplot(sizes, media_testing, color=\"g\", label=\"Validación cruzada\");"
   ]
  },
  {
   "cell_type": "markdown",
   "metadata": {},
   "source": [
    "Esta vez la curva para el set de entrenamiento decrece y termina dando como último valor aproximadamente un 65% de precisión. \n",
    "\n",
    "¿Por qué tiene esta forma la curva?\n",
    "\n",
    "Al comienzo del todo, cuando se tienen muy pocas muestras, el modelo con una profundidad máxima de 3 es capaz de ajustarse perfectamente a los datos, a medida que se van cogiendo más datos y, existe **más diversidad** en consecuencia, el modelo **no es capaz de representar** bien los datos."
   ]
  },
  {
   "cell_type": "markdown",
   "metadata": {},
   "source": [
    "¿Qué tipos de errores tenemos?\n",
    "- error **tipo bias**: el modelo toma una serie de suposiciones que dan lugar a una sobresimplificación. Es decir, el modelo es demasiado sencillo.\n",
    "- error de **varianza**: el modelo se ajusta demasiado a los datos con los que entrena. Cada pequeña variación de los mismos, hace que el modelo cambie. Esto hace que termine generalizando mal\n",
    "    \n",
    "Lo ideal es encontrar un equilibrio entre ambos."
   ]
  },
  {
   "cell_type": "markdown",
   "metadata": {},
   "source": [
    "Vamos ahora a utilizar una malla para tratar de encontrar el modelo que mejor resultado da para este problema en concreto. Usaremos la funcion **GridSearchCV()**:"
   ]
  },
  {
   "cell_type": "code",
   "execution_count": 137,
   "metadata": {},
   "outputs": [],
   "source": [
    "arbol = DecisionTreeClassifier()"
   ]
  },
  {
   "cell_type": "code",
   "execution_count": 140,
   "metadata": {},
   "outputs": [
    {
     "data": {
      "text/plain": [
       "GridSearchCV(cv=5, error_score=nan,\n",
       "             estimator=DecisionTreeClassifier(ccp_alpha=0.0, class_weight=None,\n",
       "                                              criterion='gini', max_depth=None,\n",
       "                                              max_features=None,\n",
       "                                              max_leaf_nodes=None,\n",
       "                                              min_impurity_decrease=0.0,\n",
       "                                              min_impurity_split=None,\n",
       "                                              min_samples_leaf=1,\n",
       "                                              min_samples_split=2,\n",
       "                                              min_weight_fraction_leaf=0.0,\n",
       "                                              presort='deprecated',\n",
       "                                              random_state=None,\n",
       "                                              splitter='best'),\n",
       "             iid='deprecated', n_jobs=None,\n",
       "             param_grid={'ccp_alpha': [0, 0.05, 0.1, 0.5, 1],\n",
       "                         'criterion': ['gini', 'entropy'],\n",
       "                         'max_depth': [15, 20, 25],\n",
       "                         'min_samples_split': [2, 5, 10],\n",
       "                         'splitter': ['best', 'random']},\n",
       "             pre_dispatch='2*n_jobs', refit=False, return_train_score=False,\n",
       "             scoring='accuracy', verbose=0)"
      ]
     },
     "execution_count": 140,
     "metadata": {},
     "output_type": "execute_result"
    }
   ],
   "source": [
    "# Definimos el diccionario para las combinaciones de parametros\n",
    "param_grid = {'criterion': ['gini', 'entropy'],\n",
    "             'splitter': ['best', 'random'],\n",
    "             'max_depth': [15,20,25],\n",
    "             'min_samples_split': [2,5,10],\n",
    "             'ccp_alpha':[0, 0.05, 0.1, 0.5, 1]}\n",
    "\n",
    "malla = GridSearchCV(estimator = arbol,     # estimador\n",
    "                     param_grid = param_grid,  # parametros que queremos probar\n",
    "                     cv = 5,            # 5 subconjuntos para cada combinacion\n",
    "                     refit = False,     # Entrenar el arbol con la mejor combi.\n",
    "                     scoring = 'accuracy' # metrica para comparar\n",
    "                    ) \n",
    "\n",
    "malla.fit(X_train, y_train)"
   ]
  },
  {
   "cell_type": "code",
   "execution_count": 141,
   "metadata": {},
   "outputs": [
    {
     "data": {
      "text/plain": [
       "GridSearchCV(cv=5, error_score=nan,\n",
       "             estimator=DecisionTreeClassifier(ccp_alpha=0.0, class_weight=None,\n",
       "                                              criterion='gini', max_depth=None,\n",
       "                                              max_features=None,\n",
       "                                              max_leaf_nodes=None,\n",
       "                                              min_impurity_decrease=0.0,\n",
       "                                              min_impurity_split=None,\n",
       "                                              min_samples_leaf=1,\n",
       "                                              min_samples_split=2,\n",
       "                                              min_weight_fraction_leaf=0.0,\n",
       "                                              presort='deprecated',\n",
       "                                              random_state=None,\n",
       "                                              splitter='best'),\n",
       "             iid='deprecated', n_jobs=None,\n",
       "             param_grid={'ccp_alpha': [0, 0.05, 0.1, 0.5, 1],\n",
       "                         'criterion': ['gini', 'entropy'],\n",
       "                         'max_depth': [15, 20, 25],\n",
       "                         'min_samples_split': [2, 5, 10],\n",
       "                         'splitter': ['best', 'random']},\n",
       "             pre_dispatch='2*n_jobs', refit=False, return_train_score=False,\n",
       "             scoring='accuracy', verbose=0)"
      ]
     },
     "execution_count": 141,
     "metadata": {},
     "output_type": "execute_result"
    }
   ],
   "source": [
    "malla.fit(X_train, y_train)"
   ]
  },
  {
   "cell_type": "markdown",
   "metadata": {},
   "source": [
    "Una vez entrenada la malla, podemos acceder a la mejor combinación estimada por la misma con el atributo **best_params_**:"
   ]
  },
  {
   "cell_type": "code",
   "execution_count": 142,
   "metadata": {},
   "outputs": [
    {
     "name": "stdout",
     "output_type": "stream",
     "text": [
      "{'ccp_alpha': 0, 'criterion': 'gini', 'max_depth': 20, 'min_samples_split': 2, 'splitter': 'best'}\n"
     ]
    }
   ],
   "source": [
    "print(malla.best_params_)"
   ]
  },
  {
   "cell_type": "markdown",
   "metadata": {},
   "source": [
    "Entrenamos entonces el árbol con estos parametros, vemo cual es su rendimiento final y posteriormente visualizamos de nuevo las curvas de aprendizaje:"
   ]
  },
  {
   "cell_type": "code",
   "execution_count": 144,
   "metadata": {},
   "outputs": [
    {
     "data": {
      "image/png": "[encoded data removed]",
      "text/plain": [
       "<Figure size 432x288 with 2 Axes>"
      ]
     },
     "metadata": {},
     "output_type": "display_data"
    }
   ],
   "source": [
    "arbol = DecisionTreeClassifier(**malla.best_params_)\n",
    "arbol.fit(X_train, y_train)\n",
    "\n",
    "plot_confusion_matrix(arbol, X_test, y_test)\n",
    "plt.grid(False)"
   ]
  },
  {
   "cell_type": "markdown",
   "metadata": {},
   "source": [
    "Los errores están claramente descompensados. No son independientes del tipo de vino.\n",
    "\n",
    "Para los vinos de tipo **bueno** el rendimiento es realmente pobre, clasificándose mal casi la mitad de las veces. Incluso a veces se toman vinos tipo **bueno** como si fuesen tipo **malo**. Esto nos da una idea de posibles acciones que pueden tomarse para mejorar el rendimiento."
   ]
  },
  {
   "cell_type": "code",
   "execution_count": 145,
   "metadata": {},
   "outputs": [
    {
     "data": {
      "text/plain": [
       "0.6041666666666666"
      ]
     },
     "execution_count": 145,
     "metadata": {},
     "output_type": "execute_result"
    }
   ],
   "source": [
    "# Veamos directamente su precisión general\n",
    "predicciones = arbol.predict(X_test)\n",
    "accuracy_score(y_test, predicciones)"
   ]
  },
  {
   "cell_type": "code",
   "execution_count": 143,
   "metadata": {},
   "outputs": [
    {
     "data": {
      "image/png": "[encoded data removed]",
      "text/plain": [
       "<Figure size 576x432 with 1 Axes>"
      ]
     },
     "metadata": {},
     "output_type": "display_data"
    }
   ],
   "source": [
    "# Sacamos las curvas de aprendizaje\n",
    "arbol = DecisionTreeClassifier(**malla.best_params_)\n",
    "\n",
    "tamaños, training_resultados, testing_resultados = learning_curve(arbol,\\\n",
    "                                                        X_train,\\\n",
    "                                                        y_train,\\\n",
    "                                                        cv=10,\\\n",
    "                                                        scoring='accuracy',\\\n",
    "                                                        train_sizes=np.linspace(0.01, 1.0, 50)) \n",
    "\n",
    "media_training = np.mean(training_resultados, axis=1) \n",
    "media_testing = np.mean(testing_resultados, axis=1) \n",
    "  \n",
    "plt.figure(figsize = (8,6))    \n",
    "sns.lineplot(sizes, media_training, color=\"b\",  label=\"Training\") \n",
    "sns.lineplot(sizes, media_testing, color=\"g\", label=\"Validación cruzada\");"
   ]
  },
  {
   "cell_type": "markdown",
   "metadata": {},
   "source": [
    "La mejor combinación posible de parámetros para un árbol de decisión en este problema da lugar a un modelo con una precisión bastante baja y además el modelo sobreajusta.\n",
    "\n",
    "¿Qué hacemos entonces?\n",
    "\n",
    "Este es un claro ejemplo de situación en la que un **aumento en el número de muestras de entrenamiento mejoraría el rendimiento del modelo**, ya que la curva de validación cruzada tiene una tendencia positiva. Más muestras reducirían el error por varianza.\n",
    "\n",
    "A lo mejor en una situación real, esta solución no es viable por coste por ejemplo. En este caso, podríamos tratar de usar otras variables explicativas para el modelo ( nuevas, generadas, o incluso quitar alguna que pueda estar afectando negativamente al modelo).\n",
    "\n",
    "Y otra opción sería probar otros modelos de clasificación, que posiblemente puedan tener un mejor desempeño en este problema.\n",
    "\n"
   ]
  }
 ],
 "metadata": {
  "kernelspec": {
   "display_name": "Python 3",
   "language": "python",
   "name": "python3"
  },
  "language_info": {
   "codemirror_mode": {
    "name": "ipython",
    "version": 3
   },
   "file_extension": ".py",
   "mimetype": "text/x-python",
   "name": "python",
   "nbconvert_exporter": "python",
   "pygments_lexer": "ipython3",
   "version": "3.6.9"
  }
 },
 "nbformat": 4,
 "nbformat_minor": 2
}