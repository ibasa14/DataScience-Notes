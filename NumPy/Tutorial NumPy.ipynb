{
 "cells": [
  {
   "cell_type": "markdown",
   "metadata": {},
   "source": [
    "<img src=\"numpy_fondo.png\">"
   ]
  },
  {
   "cell_type": "markdown",
   "metadata": {},
   "source": [
    "## ¿Qué es?\n",
    "\n",
    "NumPy es librería Python para trabajar con vectores y matrices por excelencia. Dicho esto, parece claro por qué es necesario\n",
    "al menos conocerla y saber alguna de sus funcionalidades más importantes.\n",
    "\n",
    "Es una de las librerías sobre las que se apoya **pandas**, la más relevante a la hora de realizar proyectos *data-science* y\n",
    "*machine learning* con Python."
   ]
  },
  {
   "cell_type": "markdown",
   "metadata": {},
   "source": [
    "## Arrays -  Inicialización\n",
    "\n",
    "Un **NumPy array**  es una matriz de valores (del mismo tipo) indexada por una tupla de enteros no negativos. \n",
    "\n",
    "El número de dimensiones es el rango de la matriz; la forma de una matriz es una tupla de números enteros que dan el tamaño de la matriz a lo largo de cada dimensión.\n",
    "\n",
    "Podemos inicializarlos de la siguiente forma:"
   ]
  },
  {
   "cell_type": "code",
   "execution_count": 2,
   "metadata": {},
   "outputs": [
    {
     "name": "stdout",
     "output_type": "stream",
     "text": [
      "Tipo: <class 'numpy.ndarray'>\n",
      "Dimensión: (3,)\n",
      "Valor de la primera posición: 1\n",
      "Array actualizado: [5 2 3]\n",
      "\n",
      "Dimensión: (2, 3)\n",
      "Valor en la posición (1,0): 4\n"
     ]
    }
   ],
   "source": [
    "import numpy as np                                      # Importamos la libreria (por convenio se nombra np)\n",
    "\n",
    "a = np.array([1, 2, 3])                                 # NumPy array de 1 dimensión\n",
    "print(f'Tipo: {type(a)}')                               # Comprobamos el tipo del objeto recien creado\n",
    "print(f'Dimensión: {a.shape}')                          # Imprimimos su dimensión\n",
    "print(f'Valor de la primera posición: {a[0]}')          # Accedemos a la posición 0 \n",
    "a[0] = 5                                                # Modificamos el valor en la posición 0\n",
    "print(f'Array actualizado: {a}')  \n",
    "\n",
    "print()\n",
    "\n",
    "b = np.array([[1,2,3],[4,5,6]])                         # NumPy array de 2 dimensiones\n",
    "print(f'Dimensión: {b.shape}')                     \n",
    "print(f'Valor en la posición (1,0): {b[1, 0]}')   "
   ]
  },
  {
   "cell_type": "markdown",
   "metadata": {},
   "source": [
    "NumPy ofrece unas funciones de inicialización bastante útiles:"
   ]
  },
  {
   "cell_type": "code",
   "execution_count": 7,
   "metadata": {},
   "outputs": [
    {
     "name": "stdout",
     "output_type": "stream",
     "text": [
      "Matriz de 0s:\n",
      "[[0. 0.]\n",
      " [0. 0.]]\n",
      "\n",
      "Matriz de 1s:\n",
      "[[1. 1.]]\n",
      "\n",
      "Matriz de valores constantes:\n",
      "[[7 7]\n",
      " [7 7]]\n",
      "\n",
      "Matriz identidad:\n",
      "[[1. 0.]\n",
      " [0. 1.]]\n",
      "\n",
      "Matriz de valores aleatorios:\n",
      "[[0.72321989 0.99167964]\n",
      " [0.15414149 0.985226  ]]\n"
     ]
    }
   ],
   "source": [
    "a = np.zeros((2,2))                 # Array de 0s de dimension 2 x 2\n",
    "print('Matriz de 0s:')              \n",
    "print(a)\n",
    "\n",
    "print()\n",
    "\n",
    "b = np.ones((1,2))                  # Array de 0s de dimension 1 x 2\n",
    "print('Matriz de 1s:')\n",
    "print(b)\n",
    "                      \n",
    "print()\n",
    "\n",
    "c = np.full((2,2), 7)               # Array de valores constantes\n",
    "print('Matriz de valores constantes:')\n",
    "print(c)\n",
    "                              \n",
    "print()\n",
    "               \n",
    "d = np.eye(2)                       # Matriz identidad 2 x 2\n",
    "print('Matriz identidad:') \n",
    "print(d)\n",
    "                               \n",
    "print()\n",
    "             \n",
    "e = np.random.random((2,2))         # Array con valores aleatorios comprendidos entre 0 y 1\n",
    "print('Matriz de valores aleatorios:')\n",
    "print(e)\n",
    "                   "
   ]
  },
  {
   "cell_type": "markdown",
   "metadata": {},
   "source": [
    "## Indexación\n",
    "\n",
    "Numpy ofrece varias formas de indexar en matrices.\n",
    "\n",
    "Slicing: similar a las listas de Python, las matrices numpy se pueden cortar. Al poder tratarse de matrices multidimensionales, debemos especificar la dimensión:\n"
   ]
  },
  {
   "cell_type": "code",
   "execution_count": 15,
   "metadata": {},
   "outputs": [
    {
     "name": "stdout",
     "output_type": "stream",
     "text": [
      "a:\n",
      "[[ 1  2  3  4]\n",
      " [ 5  6  7  8]\n",
      " [ 9 10 11 12]]\n",
      "\n",
      "b:\n",
      "[[2 3]\n",
      " [6 7]]\n",
      "\n",
      "c: 2\n",
      "\n",
      "d:\n",
      "[5 6 7 8]\n"
     ]
    }
   ],
   "source": [
    "a = np.array([[1,2,3,4], [5,6,7,8], [9,10,11,12]])   # creamos una matriz de 3D\n",
    "print('a:')\n",
    "print(a)\n",
    "\n",
    "print()\n",
    "\n",
    "b = a[:2, 1:3]       # Nos quedamos con las elementos 1 y 2 de las3 dimensiones                                        \n",
    "print('b:')\n",
    "print(b)\n",
    "\n",
    "print()\n",
    "\n",
    "c = a[0,1]           # También podemos indexar con enteros (no slicing)\n",
    "print(f'c: {c}')\n",
    "\n",
    "print()\n",
    "\n",
    "d = a[1, :]          # O podemos combinar ambos tipos\n",
    "print('d:')\n",
    "print(d)"
   ]
  },
  {
   "cell_type": "markdown",
   "metadata": {},
   "source": [
    "Indexación por condición: Devuelve un numpy array de *booleanos*: True/False, en aquellas posiciones que cumplan la condición:"
   ]
  },
  {
   "cell_type": "code",
   "execution_count": 17,
   "metadata": {},
   "outputs": [
    {
     "name": "stdout",
     "output_type": "stream",
     "text": [
      "a:\n",
      "[[1 2]\n",
      " [3 4]\n",
      " [5 6]]\n",
      "\n",
      "b:\n",
      "[[False False]\n",
      " [False  True]\n",
      " [ True  True]]\n"
     ]
    }
   ],
   "source": [
    "a = np.array([[1,2], [3, 4], [5, 6]])\n",
    "print('a:')\n",
    "print(a)\n",
    "\n",
    "print()\n",
    "\n",
    "b = (a > 3)  # Encuentra las posiciones que tengan valores mayores que 3\n",
    "             # Devuelve un array de booleanos\n",
    "print('b:')\n",
    "print(b)\n",
    "                    "
   ]
  },
  {
   "cell_type": "markdown",
   "metadata": {},
   "source": [
    "## Data types\n",
    "\n",
    "Como ya hemos comentado, las matrices NumPy están formadas por elementos del mismo tipo. \n",
    "Al inicializar un array, Numpy intenta adivinar el tipo de datos, pero las funciones que construyen matrices generalmente también incluyen un argumento opcional para especificar explícitamente el tipo de datos. Aquí hay un ejemplo:"
   ]
  },
  {
   "cell_type": "code",
   "execution_count": 22,
   "metadata": {},
   "outputs": [
    {
     "name": "stdout",
     "output_type": "stream",
     "text": [
      "Tipo de a: int32\n",
      "\n",
      "Tipo de b: float64\n",
      "\n",
      "c:\n",
      "[1 2]\n",
      "Tipo de c: int64\n",
      "\n",
      "d:\n",
      "[1. 2.]\n",
      "Tipo de d: int64\n"
     ]
    }
   ],
   "source": [
    "a = np.array([1, 2])   # NumPy identifica tipo entero\n",
    "print(f'Tipo de a: {a.dtype}')\n",
    "\n",
    "print()\n",
    "\n",
    "b = np.array([1.0, 2.0])   # NumPy identifica tipo float\n",
    "print(f'Tipo de b: {b.dtype}')    \n",
    "\n",
    "print()\n",
    "\n",
    "c = np.array([1.5, 2.7], dtype=np.int64)   # Forzamos conversión a tipo entero\n",
    "print('c:')\n",
    "print(c)\n",
    "print(f'Tipo de c: {c.dtype}')    \n",
    "\n",
    "print()\n",
    "\n",
    "d = np.array([1, 2], dtype=np.float)   # Forzamos conversión a tipo float\n",
    "print('d:')\n",
    "print(d)\n",
    "print(f'Tipo de d: {c.dtype}')   "
   ]
  },
  {
   "cell_type": "markdown",
   "metadata": {},
   "source": [
    "Si quisieramos cambiar el tipo de datos de un numpy array que ya existe, usamos la funcion np.astype()"
   ]
  },
  {
   "cell_type": "code",
   "execution_count": 26,
   "metadata": {},
   "outputs": [
    {
     "name": "stdout",
     "output_type": "stream",
     "text": [
      "Tipo de a: int32\n",
      "Tipo de e: float64\n",
      "e:\n",
      "[1. 2.]\n"
     ]
    }
   ],
   "source": [
    "e = a.astype(np.float)\n",
    "\n",
    "print(f'Tipo de a: {a.dtype}')\n",
    "print(f'Tipo de e: {e.dtype}')\n",
    "print('e:')\n",
    "print(e)"
   ]
  },
  {
   "cell_type": "markdown",
   "metadata": {},
   "source": [
    "## Operaciones\n",
    "\n",
    "A continuación se muestran ejemplos de operaciones entre vectores, y funciones que ofrece la librería. Todos estos ejemplos se realizan elemento a elemento:"
   ]
  },
  {
   "cell_type": "code",
   "execution_count": 24,
   "metadata": {},
   "outputs": [
    {
     "name": "stdout",
     "output_type": "stream",
     "text": [
      "x + y :\n",
      "[[ 6.  8.]\n",
      " [10. 12.]]\n",
      "\n",
      "x - y :\n",
      "[[-4. -4.]\n",
      " [-4. -4.]]\n",
      "\n",
      "x * y :\n",
      "[[ 5. 12.]\n",
      " [21. 32.]]\n",
      "\n",
      "x / y :\n",
      "[[0.2        0.33333333]\n",
      " [0.42857143 0.5       ]]\n",
      "\n",
      "np.sqrt(x) :\n",
      "[[1.         1.41421356]\n",
      " [1.73205081 2.        ]]\n"
     ]
    }
   ],
   "source": [
    "x = np.array([[1,2],[3,4]], dtype=np.float64)\n",
    "y = np.array([[5,6],[7,8]], dtype=np.float64)\n",
    "\n",
    "print('x + y :')\n",
    "print(x + y)\n",
    "\n",
    "print()\n",
    "\n",
    "print('x - y :')\n",
    "print(x - y)\n",
    "\n",
    "print()\n",
    "\n",
    "print('x * y :')\n",
    "print(x * y)\n",
    "\n",
    "print()\n",
    "\n",
    "print('x / y :')\n",
    "print(x / y)\n",
    "\n",
    "print()\n",
    "\n",
    "print('np.sqrt(x) :')\n",
    "print(np.sqrt(x))"
   ]
  },
  {
   "cell_type": "markdown",
   "metadata": {},
   "source": [
    "## Producto matricial\n",
    "\n",
    "Para realizar **producto matricial**, NumPy presenta la funcion np.dot(M1, M2)"
   ]
  },
  {
   "cell_type": "code",
   "execution_count": 25,
   "metadata": {},
   "outputs": [
    {
     "name": "stdout",
     "output_type": "stream",
     "text": [
      "x:\n",
      "[[1 2]\n",
      " [3 4]]\n",
      "\n",
      "y:\n",
      "[[5 6]\n",
      " [7 8]]\n",
      "\n",
      "Producto matricial x,y :\n",
      "[[19 22]\n",
      " [43 50]]\n"
     ]
    }
   ],
   "source": [
    "x = np.array([[1,2],[3,4]])\n",
    "\n",
    "y = np.array([[5,6],[7,8]])\n",
    "\n",
    "print('x:')\n",
    "print(x)\n",
    "\n",
    "print()\n",
    "\n",
    "print('y:')\n",
    "print(y)\n",
    "\n",
    "print()\n",
    "\n",
    "print('Producto matricial x,y :')\n",
    "print(np.dot(x,y))"
   ]
  },
  {
   "cell_type": "markdown",
   "metadata": {},
   "source": [
    "## Funciones estadísticas\n",
    "\n",
    "Existen todas aquellas funciones estadísticas que se nos puedan venir a la cabeza, un par de ejemplos: \n",
    "\n",
    "- **media**:*np.mean()*\n",
    "\n",
    "- **desviación típica**: *np.std()*\n"
   ]
  },
  {
   "cell_type": "code",
   "execution_count": 46,
   "metadata": {},
   "outputs": [
    {
     "name": "stdout",
     "output_type": "stream",
     "text": [
      "a:\n",
      "[[1 2 3]\n",
      " [4 5 6]]\n",
      "\n",
      "Media de todos los elementos: 3.5\n",
      "\n",
      "Media sobre el exe de  ordenadas (x): [2.5 3.5 4.5]\n",
      "\n",
      "Media sobre el eje de abcisas (y): [2. 5.]\n"
     ]
    }
   ],
   "source": [
    "a = np.array([[1,2,3],[4,5,6]])\n",
    "print('a:')\n",
    "print(a)\n",
    "\n",
    "print()\n",
    "\n",
    "# Se puede especificar sobre que dimensión queremos realizar la operación:\n",
    "\n",
    "print(f'Media de todos los elementos: {np.mean(a)}') # todos los elementos\n",
    "\n",
    "print()\n",
    "\n",
    "print(f'Media sobre el exe de  ordenadas (x): {np.mean(a, axis = 0)}')\n",
    "                                           \n",
    "print()\n",
    "                                           \n",
    "print(f'Media sobre el eje de abcisas (y): {np.mean(a, axis = 1)}')"
   ]
  },
  {
   "cell_type": "markdown",
   "metadata": {},
   "source": [
    "## Transposición matricial\n",
    "Una de las funciones más empleadas cuando trabajamos con matrices es la transposicion: cambiar filas por columnas. En NumPy se realiza tan sencillo como esto:"
   ]
  },
  {
   "cell_type": "code",
   "execution_count": 48,
   "metadata": {},
   "outputs": [
    {
     "name": "stdout",
     "output_type": "stream",
     "text": [
      "a:\n",
      "[[1 2 3]\n",
      " [4 5 6]]\n",
      "\n",
      "a transpuesta: \n",
      "[[1 4]\n",
      " [2 5]\n",
      " [3 6]]\n"
     ]
    }
   ],
   "source": [
    "a = np.array([[1,2,3], [4,5,6]])\n",
    "print('a:')\n",
    "print(a)\n",
    "\n",
    "print()\n",
    "\n",
    "print('a transpuesta: ')\n",
    "print(f'{a.T}')"
   ]
  },
  {
   "cell_type": "markdown",
   "metadata": {},
   "source": [
    "## Concatenación matricial\n",
    "Muchas veces es interesante concatenar matrices, tanto en el eje X como en el eje Y. Se exige que la dimensión de ambas matrices sea la misma. A continuación dos ejemplos:\n"
   ]
  },
  {
   "cell_type": "code",
   "execution_count": 12,
   "metadata": {},
   "outputs": [
    {
     "name": "stdout",
     "output_type": "stream",
     "text": [
      "a:\n",
      "[[1 2 3]\n",
      " [4 5 6]]\n",
      "\n",
      "b:\n",
      "[[7 8 9]]\n",
      "\n",
      "b concatenado en a por eje x:\n",
      "[[1 2 3]\n",
      " [4 5 6]\n",
      " [7 8 9]]\n",
      "\n",
      "c:\n",
      "[[1 2 3]\n",
      " [4 5 6]]\n",
      "\n",
      "d:\n",
      "[[7]\n",
      " [8]]\n",
      "\n",
      "d concatenado en c por eje y:\n",
      "[[1 2 3 7]\n",
      " [4 5 6 8]]\n"
     ]
    }
   ],
   "source": [
    "a = np.array([[1,2,3], [4,5,6]])\n",
    "b = np.array([[7,8,9]])\n",
    "\n",
    "e = np.concatenate([a,b], axis = 0)     # Tiene que coincidir el tamaño del eje x\n",
    "\n",
    "c = np.array([[1,2,3],[4,5,6]])\n",
    "d = np.array([[7],[8]])\n",
    "\n",
    "f = np.concatenate([c,d], axis = 1)     # Tiene que coincidir el tamaño del eje y\n",
    "\n",
    "print('a:')\n",
    "print(a)\n",
    "\n",
    "print()\n",
    "\n",
    "print('b:')\n",
    "print(b)\n",
    "\n",
    "print()\n",
    "\n",
    "print('b concatenado en a por eje x:')\n",
    "print(e)\n",
    "\n",
    "print()\n",
    "\n",
    "print('c:')\n",
    "print(c)\n",
    "\n",
    "print()\n",
    "\n",
    "print('d:')\n",
    "print(d)\n",
    "\n",
    "print()\n",
    "\n",
    "print('d concatenado en c por eje y:')\n",
    "print(f)\n",
    "\n"
   ]
  }
 ],
 "metadata": {
  "kernelspec": {
   "display_name": "tensorflow",
   "language": "python",
   "name": "tensorflow"
  },
  "language_info": {
   "codemirror_mode": {
    "name": "ipython",
    "version": 3
   },
   "file_extension": ".py",
   "mimetype": "text/x-python",
   "name": "python",
   "nbconvert_exporter": "python",
   "pygments_lexer": "ipython3",
   "version": "3.6.9"
  }
 },
 "nbformat": 4,
 "nbformat_minor": 2
}
